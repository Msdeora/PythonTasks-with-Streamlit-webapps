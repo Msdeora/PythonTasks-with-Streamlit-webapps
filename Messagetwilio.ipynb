{
 "cells": [
  {
   "cell_type": "code",
   "execution_count": null,
   "id": "babe32ef-7dd9-44bb-a1d4-1ed0ff247f20",
   "metadata": {},
   "outputs": [],
   "source": [
    "!pip install twilio\n"
   ]
  },
  {
   "cell_type": "code",
   "execution_count": 1,
   "id": "81e281ac-f399-4ac5-893a-b5fe839b09a2",
   "metadata": {},
   "outputs": [
    {
     "name": "stdout",
     "output_type": "stream",
     "text": [
      "Message sent! SID: SM11877704f91ed8bc95e7b47d90a09860\n"
     ]
    }
   ],
   "source": [
    "from twilio.rest import Client\n",
    "\n",
    "# Your Twilio credentials\n",
    "account_sid = 'ACc724ccfa2970237bc85eb0f411453f29'\n",
    "auth_token = 'c47e56b908ea67143fbba4afcf5718d1'\n",
    "\n",
    "# Initialize client\n",
    "client = Client(account_sid, auth_token)\n",
    "\n",
    "# Send SMS\n",
    "message = client.messages.create(\n",
    "    body=\"Hello from Python!\",\n",
    "    from_='+15075165974',   # Twilio phone number\n",
    "    to='+918619482042'     # Your verified phone number\n",
    ")\n",
    "\n",
    "print(\"Message sent! SID:\", message.sid)\n"
   ]
  },
  {
   "cell_type": "code",
   "execution_count": null,
   "id": "0b2d47c1-58b4-467f-b6e2-7e6643289df0",
   "metadata": {},
   "outputs": [],
   "source": []
  }
 ],
 "metadata": {
  "kernelspec": {
   "display_name": "Python 3 (ipykernel)",
   "language": "python",
   "name": "python3"
  },
  "language_info": {
   "codemirror_mode": {
    "name": "ipython",
    "version": 3
   },
   "file_extension": ".py",
   "mimetype": "text/x-python",
   "name": "python",
   "nbconvert_exporter": "python",
   "pygments_lexer": "ipython3",
   "version": "3.12.7"
  }
 },
 "nbformat": 4,
 "nbformat_minor": 5
}
