{
 "cells": [
  {
   "cell_type": "code",
   "execution_count": null,
   "id": "b3b8bbec-c08d-4c97-99f1-7e425af20afd",
   "metadata": {},
   "outputs": [],
   "source": [
    "!pip install pywhatkit"
   ]
  },
  {
   "cell_type": "code",
   "execution_count": 4,
   "id": "31180d4b-d36f-4289-bf1b-d741afdbf8a8",
   "metadata": {},
   "outputs": [],
   "source": [
    "import pywhatkit\n",
    "\n",
    "def sendmsgwh():\n",
    "    pywhatkit.sendwhatmsg(\"‪+917597590166‬\",\"jai shree ram\",13,50)\n",
    "    return \"msg sent\"\n"
   ]
  },
  {
   "cell_type": "code",
   "execution_count": 2,
   "id": "bec1bc4b-9c88-4dae-889e-37a4873241a6",
   "metadata": {},
   "outputs": [
    {
     "name": "stdout",
     "output_type": "stream",
     "text": [
      "In 195 Seconds WhatsApp will open and after 15 Seconds Message will be Delivered!\n"
     ]
    },
    {
     "data": {
      "text/plain": [
       "'msg sent'"
      ]
     },
     "execution_count": 2,
     "metadata": {},
     "output_type": "execute_result"
    }
   ],
   "source": [
    "sendmsgwh()"
   ]
  },
  {
   "cell_type": "code",
   "execution_count": null,
   "id": "9a2769c2-5760-4df7-aa58-c6dda88837aa",
   "metadata": {},
   "outputs": [],
   "source": []
  },
  {
   "cell_type": "code",
   "execution_count": null,
   "id": "e5752b73-1d48-4190-805b-7c02aa25eec6",
   "metadata": {},
   "outputs": [],
   "source": []
  },
  {
   "cell_type": "code",
   "execution_count": null,
   "id": "b25b59dd-fb87-45e5-a248-39b242515272",
   "metadata": {},
   "outputs": [],
   "source": []
  },
  {
   "cell_type": "code",
   "execution_count": null,
   "id": "743823d8-2cb0-42eb-af1e-0c8576916e80",
   "metadata": {},
   "outputs": [],
   "source": []
  }
 ],
 "metadata": {
  "kernelspec": {
   "display_name": "Python 3 (ipykernel)",
   "language": "python",
   "name": "python3"
  },
  "language_info": {
   "codemirror_mode": {
    "name": "ipython",
    "version": 3
   },
   "file_extension": ".py",
   "mimetype": "text/x-python",
   "name": "python",
   "nbconvert_exporter": "python",
   "pygments_lexer": "ipython3",
   "version": "3.12.3"
  }
 },
 "nbformat": 4,
 "nbformat_minor": 5
}
