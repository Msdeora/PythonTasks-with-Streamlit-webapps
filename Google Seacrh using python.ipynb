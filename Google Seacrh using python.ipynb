{
 "cells": [
  {
   "cell_type": "code",
   "execution_count": null,
   "id": "5ae94f08-795f-4d85-9e90-18987f3b325e",
   "metadata": {},
   "outputs": [],
   "source": [
    "pip install googlesearch-python"
   ]
  },
  {
   "cell_type": "code",
   "execution_count": 1,
   "id": "9ed644ea-f44f-4bd1-9ecd-f958d5ba4215",
   "metadata": {},
   "outputs": [
    {
     "name": "stdout",
     "output_type": "stream",
     "text": [
      "🔍 Google Search Results for : Best cars under 1000000 \n",
      "\n",
      "1. https://www.carwale.com/new/best-cars-under-10-lakh/\n",
      "2. https://www.cardekho.com/new-cars+under-10-lakh\n",
      "3. https://www.carwale.com/new/best-cars-under-10-lakh/2/\n",
      "4. https://www.zigwheels.com/newcars/cars-under-10-lakhs\n",
      "5. https://www.cartrade.com/new-cars/by-price/best-cars-under-10-lakh/\n"
     ]
    }
   ],
   "source": [
    "from googlesearch import search\n",
    "\n",
    "query = \"Best cars under 1000000\"\n",
    "num_results = 5  # number of links to show\n",
    "\n",
    "print(f\"🔍 Google Search Results for : {query} \\n\")\n",
    "for i, result in enumerate(search(query, num_results=num_results), start=1):\n",
    "    print(f\"{i}. {result}\")"
   ]
  },
  {
   "cell_type": "code",
   "execution_count": null,
   "id": "ea1e7561-d76f-47b0-befb-21fc863ef3ce",
   "metadata": {},
   "outputs": [],
   "source": []
  }
 ],
 "metadata": {
  "kernelspec": {
   "display_name": "Python 3 (ipykernel)",
   "language": "python",
   "name": "python3"
  },
  "language_info": {
   "codemirror_mode": {
    "name": "ipython",
    "version": 3
   },
   "file_extension": ".py",
   "mimetype": "text/x-python",
   "name": "python",
   "nbconvert_exporter": "python",
   "pygments_lexer": "ipython3",
   "version": "3.12.7"
  }
 },
 "nbformat": 4,
 "nbformat_minor": 5
}
