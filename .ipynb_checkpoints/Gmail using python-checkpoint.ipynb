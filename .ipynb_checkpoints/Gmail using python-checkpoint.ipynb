{
 "cells": [
  {
   "cell_type": "code",
   "execution_count": 2,
   "id": "ce8ceafa-3591-49a6-9079-cb4b218fd07d",
   "metadata": {},
   "outputs": [
    {
     "name": "stdout",
     "output_type": "stream",
     "text": [
      "✅ Email sent successfully!\n"
     ]
    }
   ],
   "source": [
    "import smtplib\n",
    "from email.message import EmailMessage\n",
    "\n",
    "# Email content\n",
    "subject = \"Test Email from Python\"\n",
    "body = \"Hello,\\nThis is a test email sent using Python!\"\n",
    "sender_email = \"ravisingh18deorarajasthani@gmail.com\"\n",
    "receiver_email = \"maheshwarsinghdeora@gmail.com\"\n",
    "\n",
    "# Create the email message\n",
    "msg = EmailMessage()\n",
    "msg['Subject'] = subject\n",
    "msg['From'] = sender_email\n",
    "msg['To'] = receiver_email\n",
    "msg.set_content(body)\n",
    "\n",
    "# Gmail SMTP server\n",
    "smtp_server = \"smtp.gmail.com\"\n",
    "smtp_port = 465\n",
    "\n",
    "# Your email login (use App Password if 2FA is enabled)\n",
    "your_password = \"tggmjykfjgouwkcz\"\n",
    "\n",
    "# Send the email\n",
    "try:\n",
    "    with smtplib.SMTP_SSL(smtp_server, smtp_port) as server:\n",
    "        server.login(sender_email, your_password)\n",
    "        server.send_message(msg)\n",
    "    print(\"✅ Email sent successfully!\")\n",
    "except Exception as e:\n",
    "    print(\"❌ Failed to send email:\", e)\n"
   ]
  },
  {
   "cell_type": "code",
   "execution_count": null,
   "id": "fc784037-e429-4761-9ebf-9d38933cf67d",
   "metadata": {},
   "outputs": [],
   "source": []
  }
 ],
 "metadata": {
  "kernelspec": {
   "display_name": "Python 3 (ipykernel)",
   "language": "python",
   "name": "python3"
  },
  "language_info": {
   "codemirror_mode": {
    "name": "ipython",
    "version": 3
   },
   "file_extension": ".py",
   "mimetype": "text/x-python",
   "name": "python",
   "nbconvert_exporter": "python",
   "pygments_lexer": "ipython3",
   "version": "3.12.7"
  }
 },
 "nbformat": 4,
 "nbformat_minor": 5
}
