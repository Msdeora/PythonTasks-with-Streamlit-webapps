{
 "cells": [
  {
   "cell_type": "code",
   "execution_count": 7,
   "id": "553090d2-b11f-4314-bbc9-ae944ad919c0",
   "metadata": {},
   "outputs": [
    {
     "name": "stdout",
     "output_type": "stream",
     "text": [
      "Email sent successfully.\n"
     ]
    }
   ],
   "source": [
    "import smtplib\n",
    "from email.mime.text import MIMEText\n",
    "from email.mime.multipart import MIMEMultipart\n",
    "\n",
    "# Gmail credentials\n",
    "sender_email = \"ravisingh18deorarajasthani@gmail.com\"\n",
    "app_password = \"tggmjykfjgouwkcz\"  # Replace with your actual app password\n",
    "\n",
    "# Email content\n",
    "msg = MIMEMultipart()\n",
    "msg['From'] = \"Jambura <fake@domain.com>\"  # Display name and fake sender\n",
    "msg['To'] = \"maheshwarsinghdeora@gmail.com\"\n",
    "msg['Subject'] = \"Masked Email Attempt\"\n",
    "\n",
    "body = \"This is a test email trying to mask sender.\"\n",
    "msg.attach(MIMEText(body, 'plain'))\n",
    "\n",
    "# Send email\n",
    "try:\n",
    "    with smtplib.SMTP_SSL('smtp.gmail.com', 465) as server:\n",
    "        server.login(sender_email, app_password)\n",
    "        server.sendmail(sender_email, msg['To'], msg.as_string())\n",
    "    print(\"Email sent successfully.\")\n",
    "except smtplib.SMTPAuthenticationError:\n",
    "    print(\"❌ Authentication failed. Check your app password.\")\n",
    "except Exception as e:\n",
    "    print(\"❌ Error occurred:\", e)\n"
   ]
  },
  {
   "cell_type": "code",
   "execution_count": null,
   "id": "a8102dec-1ae3-4a0c-a673-0247b7ae643a",
   "metadata": {},
   "outputs": [],
   "source": []
  }
 ],
 "metadata": {
  "kernelspec": {
   "display_name": "Python 3 (ipykernel)",
   "language": "python",
   "name": "python3"
  },
  "language_info": {
   "codemirror_mode": {
    "name": "ipython",
    "version": 3
   },
   "file_extension": ".py",
   "mimetype": "text/x-python",
   "name": "python",
   "nbconvert_exporter": "python",
   "pygments_lexer": "ipython3",
   "version": "3.12.7"
  }
 },
 "nbformat": 4,
 "nbformat_minor": 5
}
