{
 "cells": [
  {
   "cell_type": "code",
   "execution_count": null,
   "id": "8d037dfa-36f0-4a2f-bde6-2ea4ffc006cd",
   "metadata": {},
   "outputs": [],
   "source": [
    "pip install instagrapi"
   ]
  },
  {
   "cell_type": "code",
   "execution_count": null,
   "id": "ce7a6819-1097-487a-8860-8bc3835918b5",
   "metadata": {},
   "outputs": [],
   "source": [
    "from instagrapi import Client\n",
    "\n",
    "cl = Client()\n",
    "cl.login(\"ravi_singh1818\", \"ShriRamjikaDas@18Hanumanji\")  # ⚠️ Do NOT share credentials publicly!\n",
    "\n",
    "cl.photo_upload(\"C:/Users/asus/Pictures/GOD/hello.jpg\", \"Har Har Mahadev\")\n"
   ]
  },
  {
   "cell_type": "code",
   "execution_count": null,
   "id": "8e7b5ee5-2528-4d14-9b8b-bbb24f8ab584",
   "metadata": {},
   "outputs": [],
   "source": []
  }
 ],
 "metadata": {
  "kernelspec": {
   "display_name": "Python 3 (ipykernel)",
   "language": "python",
   "name": "python3"
  },
  "language_info": {
   "codemirror_mode": {
    "name": "ipython",
    "version": 3
   },
   "file_extension": ".py",
   "mimetype": "text/x-python",
   "name": "python",
   "nbconvert_exporter": "python",
   "pygments_lexer": "ipython3",
   "version": "3.12.7"
  }
 },
 "nbformat": 4,
 "nbformat_minor": 5
}
