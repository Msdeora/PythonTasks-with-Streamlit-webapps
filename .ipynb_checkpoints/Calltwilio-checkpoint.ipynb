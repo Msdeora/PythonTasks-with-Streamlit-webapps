{
 "cells": [
  {
   "cell_type": "code",
   "execution_count": null,
   "id": "5205dc42-e76c-45e5-b1e3-296e124b2105",
   "metadata": {},
   "outputs": [],
   "source": [
    "!pip install twilio"
   ]
  },
  {
   "cell_type": "code",
   "execution_count": 1,
   "id": "77172b89-e428-42a3-b9b3-5fd7e2c6c3b1",
   "metadata": {},
   "outputs": [
    {
     "name": "stdout",
     "output_type": "stream",
     "text": [
      "Call initiated! SID: CA92b47445a7987376798cdfc9ba8377ab\n"
     ]
    }
   ],
   "source": [
    "from twilio.rest import Client\n",
    "\n",
    "# Your Twilio credentials\n",
    "account_sid = 'ACc724ccfa2970237bc85eb0f411453f29'\n",
    "auth_token = 'c47e56b908ea67143fbba4afcf5718d1'\n",
    "\n",
    "# Initialize client\n",
    "client = Client(account_sid, auth_token)\n",
    "\n",
    "# Make the call\n",
    "call = client.calls.create(\n",
    "    twiml='<Response><Say>Hello, this is a call from your Twilio app. Have a great day! Jai mata di</Say></Response>',\n",
    "    to='+918619482042',       # Replace with your verified number\n",
    "    from_='+15075165974'      # Replace with your Twilio number\n",
    ")\n",
    "\n",
    "print(\"Call initiated! SID:\", call.sid)\n"
   ]
  },
  {
   "cell_type": "code",
   "execution_count": null,
   "id": "37682354-d92c-4734-a22d-fd2ecced30ee",
   "metadata": {},
   "outputs": [],
   "source": []
  }
 ],
 "metadata": {
  "kernelspec": {
   "display_name": "Python 3 (ipykernel)",
   "language": "python",
   "name": "python3"
  },
  "language_info": {
   "codemirror_mode": {
    "name": "ipython",
    "version": 3
   },
   "file_extension": ".py",
   "mimetype": "text/x-python",
   "name": "python",
   "nbconvert_exporter": "python",
   "pygments_lexer": "ipython3",
   "version": "3.12.3"
  }
 },
 "nbformat": 4,
 "nbformat_minor": 5
}
