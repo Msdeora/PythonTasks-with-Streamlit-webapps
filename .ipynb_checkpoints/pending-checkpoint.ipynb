{
 "cells": [
  {
   "cell_type": "code",
   "execution_count": null,
   "id": "01ee6582-c6be-4535-b2b4-36fec851b285",
   "metadata": {},
   "outputs": [],
   "source": [
    "from twilio.rest import Client\n",
    "\n",
    "account_sid = 'your_account_sid'\n",
    "auth_token = 'your_auth_token'\n",
    "client = Client(account_sid, auth_token)\n",
    "w\n",
    "message = client.messages.create(\n",
    "    from_='whatsapp:+14155238886',\n",
    "    body='Hello from Python using Twilio!',\n",
    "    to='whatsapp:+919876543210'\n",
    ")\n",
    "\n",
    "print(message.sid)"
   ]
  }
 ],
 "metadata": {
  "kernelspec": {
   "display_name": "Python 3 (ipykernel)",
   "language": "python",
   "name": "python3"
  },
  "language_info": {
   "codemirror_mode": {
    "name": "ipython",
    "version": 3
   },
   "file_extension": ".py",
   "mimetype": "text/x-python",
   "name": "python",
   "nbconvert_exporter": "python",
   "pygments_lexer": "ipython3",
   "version": "3.12.3"
  }
 },
 "nbformat": 4,
 "nbformat_minor": 5
}
