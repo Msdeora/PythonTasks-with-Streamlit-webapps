{
 "cells": [
  {
   "cell_type": "code",
   "execution_count": null,
   "id": "66f97238-5152-4b0a-80eb-af129e5d66d3",
   "metadata": {},
   "outputs": [],
   "source": [
    "pip install psutil"
   ]
  },
  {
   "cell_type": "code",
   "execution_count": 1,
   "id": "a975ed3a-d976-441e-a081-b8efa7b60b44",
   "metadata": {},
   "outputs": [
    {
     "name": "stdout",
     "output_type": "stream",
     "text": [
      "💾 Total RAM: 23.42 GB\n",
      "📊 Available RAM: 12.85 GB\n",
      "📉 Used RAM: 10.57 GB\n",
      "📈 RAM Usage Percentage: 45.1 %\n"
     ]
    }
   ],
   "source": [
    "import psutil\n",
    "\n",
    "# Get virtual memory details\n",
    "memory = psutil.virtual_memory()\n",
    "\n",
    "# Print RAM details\n",
    "print(\"💾 Total RAM:\", round(memory.total / (1024 ** 3), 2), \"GB\")\n",
    "print(\"📊 Available RAM:\", round(memory.available / (1024 ** 3), 2), \"GB\")\n",
    "print(\"📉 Used RAM:\", round(memory.used / (1024 ** 3), 2), \"GB\")\n",
    "print(\"📈 RAM Usage Percentage:\", memory.percent, \"%\")\n"
   ]
  },
  {
   "cell_type": "code",
   "execution_count": null,
   "id": "467921f7-4519-4177-b26b-330e3f25cb54",
   "metadata": {},
   "outputs": [],
   "source": []
  }
 ],
 "metadata": {
  "kernelspec": {
   "display_name": "Python 3 (ipykernel)",
   "language": "python",
   "name": "python3"
  },
  "language_info": {
   "codemirror_mode": {
    "name": "ipython",
    "version": 3
   },
   "file_extension": ".py",
   "mimetype": "text/x-python",
   "name": "python",
   "nbconvert_exporter": "python",
   "pygments_lexer": "ipython3",
   "version": "3.12.7"
  }
 },
 "nbformat": 4,
 "nbformat_minor": 5
}
