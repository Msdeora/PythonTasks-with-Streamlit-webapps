{
 "cells": [
  {
   "cell_type": "code",
   "execution_count": null,
   "id": "8776003d-1db6-4118-8e96-2821a7cdc143",
   "metadata": {},
   "outputs": [],
   "source": [
    "pip install requests beautifulsoup4"
   ]
  },
  {
   "cell_type": "code",
   "execution_count": 2,
   "id": "a41e3f34-b328-4ada-8482-9d75c028356e",
   "metadata": {},
   "outputs": [
    {
     "name": "stdin",
     "output_type": "stream",
     "text": [
      "🔗 https://www.cardekho.com/overview/Toyota_Innova_Hycross/Toyota_Innova_Hycross_ZX(O)_Hybrid.htm  https://www.cardekho.com/overview/Toyota_Innova_Hycross/Toyota_Innova_Hycross_ZX(O)_Hybrid.htm  ↑↓ for history. Search history with c-↑/c-↓\n"
     ]
    },
    {
     "name": "stdout",
     "output_type": "stream",
     "text": [
      "\n",
      "🔖 Page Title: CarDekho: New Cars, Car Prices, Buy & Sell Used Cars in India\n",
      "\n",
      "📄 Page Text Content:\n",
      "\n",
      "- Ad\n",
      "- Ad\n",
      "- Ad\n",
      "- Ad\n",
      "- Ad\n",
      "- Ad\n",
      "- Both these cars will be getting more than just a nip and tuck\n",
      "- While multiple exciting new luxury launches took place, the past week’s spotlight was attracted by the two Maruti cars f...\n",
      "- The overall mass-market sedan segment has witnessed a 6 percent month-on-month increase in sales in May 2025\n",
      "- While the Dzire managed to secure 5 stars in Adult Occupant Protection in both tests, the Child Occupant Protection scor...\n",
      "- After a few days of driving, the initial expressions have left me with a question – is this it?\n",
      "- After 4 months and many road trips, the Dzire has finally gone back, and it has left a good mark\n",
      "- Same, Same But Different? Not really!\n",
      "- From smooth highways to challenging ghats, the Maruti Dzire ZXi+ MT proves itself as the perfect blend of efficiency, co...\n",
      "- The former Prime Minister's economic reforms didn’t just save India’s economy - they redefined middle-class aspirations ...\n",
      "- Not only this, but it is the only diesel hatchback on sale in India\n",
      "- The Slavia already boasts of a strong build quality and robust safety package just like its ŠKODA lineage\n",
      "- Tata ALTROZ, with 5-Star Global NCAP rating is for those who do not want to compromise on safety.\n",
      "- Largest Auto portal\n",
      "- Every 4 minute\n",
      "- Stay updated pay less\n",
      "- Decode the right car\n",
      "- ©2025Girnar Software Pvt. Ltd.\n"
     ]
    }
   ],
   "source": [
    "import requests\n",
    "from bs4 import BeautifulSoup\n",
    "\n",
    "def scrape_website(url):\n",
    "    headers = {\n",
    "        \"User-Agent\": \"Mozilla/5.0 (Windows NT 10.0; Win64; x64) \"\n",
    "                      \"AppleWebKit/537.36 (KHTML, like Gecko) \"\n",
    "                      \"Chrome/114.0.0.0 Safari/537.36\"\n",
    "    }\n",
    "    try:\n",
    "        response = requests.get(url, headers=headers, timeout=10)\n",
    "        response.raise_for_status()\n",
    "\n",
    "        soup = BeautifulSoup(response.text, 'html.parser')\n",
    "\n",
    "        title = soup.title.string if soup.title else \"No Title Found\"\n",
    "        print(f\"\\n🔖 Page Title: {title}\\n\")\n",
    "\n",
    "        print(\"📄 Page Text Content:\\n\")\n",
    "        for p in soup.find_all('p'):\n",
    "            text = p.get_text(strip=True)\n",
    "            if text:\n",
    "                \n",
    "                print(f\"- {text}\")\n",
    "\n",
    "    except requests.exceptions.RequestException as e:\n",
    "        print(f\"❌ Error fetching the page: {e}\")\n",
    "    except Exception as e:\n",
    "        print(f\"❌ Unexpected error: {e}\")\n",
    "\n",
    "user_url = input(\"🔗 https://www.cardekho.com/overview/Toyota_Innova_Hycross/Toyota_Innova_Hycross_ZX(O)_Hybrid.htm \")\n",
    "scrape_website(user_url)"
   ]
  },
  {
   "cell_type": "code",
   "execution_count": null,
   "id": "f5ccd0c1-262a-4d04-b820-bb1492812831",
   "metadata": {},
   "outputs": [],
   "source": []
  }
 ],
 "metadata": {
  "kernelspec": {
   "display_name": "Python 3 (ipykernel)",
   "language": "python",
   "name": "python3"
  },
  "language_info": {
   "codemirror_mode": {
    "name": "ipython",
    "version": 3
   },
   "file_extension": ".py",
   "mimetype": "text/x-python",
   "name": "python",
   "nbconvert_exporter": "python",
   "pygments_lexer": "ipython3",
   "version": "3.12.7"
  }
 },
 "nbformat": 4,
 "nbformat_minor": 5
}
